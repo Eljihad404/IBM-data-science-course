{
 "cells": [
  {
   "cell_type": "markdown",
   "id": "abce1ee2-9035-45bd-b439-9e7e85bf0aa0",
   "metadata": {},
   "source": [
    "# Data Science Tools and Ecosystem\n",
    "In this notebook, Data Science Tools and Ecosystem are summarized.\n",
    "   Objectives:\n",
    "   - List popular languages for Data Science\n",
    "   - list commonly used libraries used by Data scientists\n",
    "   - a table of data science Tools\n",
    "   - some arithmetic expression in Python\n",
    "   - examples of Python operations"
   ]
  },
  {
   "cell_type": "markdown",
   "id": "29a8772b-9321-4377-9b59-f9ae4537f28e",
   "metadata": {},
   "source": [
    "Some of the popular languages that Data Scientists use are:\n",
    "  - python\n",
    "  - R\n",
    "  - java\n",
    "  - julia\n",
    "  - C++"
   ]
  },
  {
   "cell_type": "markdown",
   "id": "440bee4a-82c9-4775-82e3-28ebfbf5fdf0",
   "metadata": {},
   "source": [
    "Some of the commonly used libraries used by Data Scientists include:\n",
    "\n",
    "1. NumPy\n",
    "2. Pandas\n",
    "3. tensorflow"
   ]
  },
  {
   "cell_type": "markdown",
   "id": "4d9d96d1-49e7-4715-8cc9-40e341f8d6af",
   "metadata": {},
   "source": [
    "|Data Science Tools|\n",
    "|:----------------:|\n",
    "|apache spark      |\n",
    "|tensor flow       |\n",
    "|hadoop            |"
   ]
  },
  {
   "cell_type": "markdown",
   "id": "388b6a65-3733-4333-ae0d-ec943d7a4c29",
   "metadata": {},
   "source": [
    "### Below are a few examples of evaluating arithmetic expressions in Python\n",
    "- add : +\n",
    "- subtract : -\n",
    "- multiply : *\n",
    "- power : **\n",
    "- modulo : %\n"
   ]
  },
  {
   "cell_type": "code",
   "execution_count": 1,
   "id": "7042769d-da8e-4386-9fc9-05e538bc7b8a",
   "metadata": {
    "tags": []
   },
   "outputs": [
    {
     "data": {
      "text/plain": [
       "17"
      ]
     },
     "execution_count": 1,
     "metadata": {},
     "output_type": "execute_result"
    }
   ],
   "source": [
    "# his a simple arithmetic expression to mutiply then add integers\n",
    "(3*4)+5"
   ]
  },
  {
   "cell_type": "code",
   "execution_count": 2,
   "id": "01bd81cd-828d-4565-a033-5d5ffa335f3b",
   "metadata": {
    "tags": []
   },
   "outputs": [
    {
     "data": {
      "text/plain": [
       "3.3333333333333335"
      ]
     },
     "execution_count": 2,
     "metadata": {},
     "output_type": "execute_result"
    }
   ],
   "source": [
    "#This will convert 200 minutes to hours by diving by 60\n",
    "200/60"
   ]
  },
  {
   "cell_type": "markdown",
   "id": "47d9367f-be54-4f4c-99c9-12ff200c4265",
   "metadata": {},
   "source": [
    "## Author \n",
    "El Houssaine El Jihad"
   ]
  },
  {
   "cell_type": "code",
   "execution_count": null,
   "id": "15bbc87f-1481-4feb-9053-ad0d13cd9a73",
   "metadata": {},
   "outputs": [],
   "source": []
  }
 ],
 "metadata": {
  "kernelspec": {
   "display_name": "Python",
   "language": "python",
   "name": "conda-env-python-py"
  },
  "language_info": {
   "codemirror_mode": {
    "name": "ipython",
    "version": 3
   },
   "file_extension": ".py",
   "mimetype": "text/x-python",
   "name": "python",
   "nbconvert_exporter": "python",
   "pygments_lexer": "ipython3",
   "version": "3.7.12"
  }
 },
 "nbformat": 4,
 "nbformat_minor": 5
}
